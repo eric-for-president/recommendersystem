{
 "cells": [
  {
   "cell_type": "code",
   "execution_count": null,
   "id": "4e4dd353",
   "metadata": {},
   "outputs": [
    {
     "name": "stdout",
     "output_type": "stream",
     "text": [
      "Current Working Directory: c:\\Users\\USER\\Downloads\\Compressed\\recommender-main\\src\\nbs\n",
      "Python Path: ['c:\\\\Users\\\\USER\\\\Downloads\\\\Compressed\\\\recommender-main\\\\src', 'C:\\\\Users\\\\USER\\\\AppData\\\\Local\\\\Programs\\\\Python\\\\Python312\\\\python312.zip', 'C:\\\\Users\\\\USER\\\\AppData\\\\Local\\\\Programs\\\\Python\\\\Python312\\\\DLLs', 'C:\\\\Users\\\\USER\\\\AppData\\\\Local\\\\Programs\\\\Python\\\\Python312\\\\Lib', 'C:\\\\Users\\\\USER\\\\AppData\\\\Local\\\\Programs\\\\Python\\\\Python312', 'c:\\\\Users\\\\USER\\\\Downloads\\\\Compressed\\\\recommender-main\\\\.venv', '', 'c:\\\\Users\\\\USER\\\\Downloads\\\\Compressed\\\\recommender-main\\\\.venv\\\\Lib\\\\site-packages', 'c:\\\\Users\\\\USER\\\\Downloads\\\\Compressed\\\\recommender-main\\\\.venv\\\\Lib\\\\site-packages\\\\win32', 'c:\\\\Users\\\\USER\\\\Downloads\\\\Compressed\\\\recommender-main\\\\.venv\\\\Lib\\\\site-packages\\\\win32\\\\lib', 'c:\\\\Users\\\\USER\\\\Downloads\\\\Compressed\\\\recommender-main\\\\.venv\\\\Lib\\\\site-packages\\\\Pythonwin']\n"
     ]
    }
   ],
   "source": [
    "import setup_django\n",
    "\n",
    "setup_django.init()"
   ]
  },
  {
   "cell_type": "code",
   "execution_count": 6,
   "id": "c07726ac",
   "metadata": {},
   "outputs": [
    {
     "name": "stdout",
     "output_type": "stream",
     "text": [
      "None\n"
     ]
    }
   ],
   "source": [
    "import numpy as np\n",
    "import pandas as pd\n",
    "from django.contrib.auth import get_user_model\n",
    "from django.db.models import F, Count, Sum, IntegerField\n",
    "from movies.models import Movie\n",
    "from ratings.models import Rating\n",
    "import random\n",
    "\n",
    "User = get_user_model()\n",
    "print(Rating.objects.filter(user__username=\"cfe\", value__gte=5).first())"
   ]
  },
  {
   "cell_type": "code",
   "execution_count": null,
   "id": "d60a2fb3",
   "metadata": {},
   "outputs": [
    {
     "ename": "AttributeError",
     "evalue": "'NoneType' object has no attribute 'content_object'",
     "output_type": "error",
     "traceback": [
      "\u001b[31m---------------------------------------------------------------------------\u001b[39m",
      "\u001b[31mAttributeError\u001b[39m                            Traceback (most recent call last)",
      "\u001b[36mCell\u001b[39m\u001b[36m \u001b[39m\u001b[32mIn[4]\u001b[39m\u001b[32m, line 2\u001b[39m\n\u001b[32m      1\u001b[39m rating_obj = Rating.objects.filter(user__username=\u001b[33m'\u001b[39m\u001b[33mcfe\u001b[39m\u001b[33m'\u001b[39m, value__gte=\u001b[32m5\u001b[39m).first()\n\u001b[32m----> \u001b[39m\u001b[32m2\u001b[39m \u001b[43mrating_obj\u001b[49m\u001b[43m.\u001b[49m\u001b[43mcontent_object\u001b[49m\n",
      "\u001b[31mAttributeError\u001b[39m: 'NoneType' object has no attribute 'content_object'"
     ]
    }
   ],
   "source": [
    "rating_obj = Rating.objects.filter(user__username=\"cfe\", value__gte=5).first()\n",
    "rating_obj.content_object"
   ]
  },
  {
   "cell_type": "code",
   "execution_count": 5,
   "id": "a68093fd",
   "metadata": {},
   "outputs": [
    {
     "ename": "AttributeError",
     "evalue": "'NoneType' object has no attribute 'content_object'",
     "output_type": "error",
     "traceback": [
      "\u001b[31m---------------------------------------------------------------------------\u001b[39m",
      "\u001b[31mAttributeError\u001b[39m                            Traceback (most recent call last)",
      "\u001b[36mCell\u001b[39m\u001b[36m \u001b[39m\u001b[32mIn[5]\u001b[39m\u001b[32m, line 1\u001b[39m\n\u001b[32m----> \u001b[39m\u001b[32m1\u001b[39m movie_id = \u001b[43mrating_obj\u001b[49m\u001b[43m.\u001b[49m\u001b[43mcontent_object\u001b[49m.id\n\u001b[32m      2\u001b[39m value = rating_obj.value\n\u001b[32m      3\u001b[39m user_id = rating_obj.user_id\n",
      "\u001b[31mAttributeError\u001b[39m: 'NoneType' object has no attribute 'content_object'"
     ]
    }
   ],
   "source": [
    "movie_id = rating_obj.content_object.id\n",
    "value = rating_obj.value\n",
    "user_id = rating_obj.user_id"
   ]
  },
  {
   "cell_type": "code",
   "execution_count": null,
   "id": "019ba5b5",
   "metadata": {},
   "outputs": [],
   "source": [
    "print(f\"Movie {movie_id} was rated {value} by {user_id}\")"
   ]
  },
  {
   "cell_type": "code",
   "execution_count": null,
   "id": "7e445055",
   "metadata": {},
   "outputs": [],
   "source": [
    "other_user_ids = (\n",
    "    Rating.objects.filter(\n",
    "        object_id=rating_obj.object_id,\n",
    "\n",
    "        content_type=rating_obj.content_type,\n",
    "        value__gte=rating_obj.value,\n",
    "    )\n",
    "    .exclude(user=rating_obj.user)\n",
    "    .values_list(\"user_id\", flat=True)\n",
    ")\n",
    "\n",
    "\n",
    "\n",
    "highly_rated = Rating.objects.filter(user_id__in=other_user_ids, value__gte=4)"
   ]
  },
  {
   "cell_type": "code",
   "execution_count": null,
   "id": "869d518c",
   "metadata": {},
   "outputs": [],
   "source": [
    "rec_users = []\n",
    "rec_movies = []\n",
    "for rating_obj in highly_rated:\n",
    "    if rating_obj.user not in rec_users:\n",
    "        rec_users.append(rating_obj.user)\n",
    "    object_id = rating_obj.object_id\n",
    "    if object_id not in rec_movies:\n",
    "        rec_movies.append(object_id)"
   ]
  },
  {
   "cell_type": "code",
   "execution_count": null,
   "id": "79c8f442",
   "metadata": {},
   "outputs": [],
   "source": [
    "print(len(rec_users), len(set(rec_movies)))"
   ]
  },
  {
   "cell_type": "code",
   "execution_count": null,
   "id": "4b712232",
   "metadata": {},
   "outputs": [],
   "source": [
    "import numpy as np"
   ]
  },
  {
   "cell_type": "code",
   "execution_count": null,
   "id": "557c6998",
   "metadata": {},
   "outputs": [],
   "source": [
    "# Write a list of 2 movies attributes\n",
    "movie_1 = [\"sci-fi\", \"comedy\", \"Stars latest action movie star\"]\n",
    "movie_2 = [\"historical fiction\", \"drama\", \"Stars latest action movie star\"]\n",
    "\n",
    "# Write a list of a User's preferences\n",
    "user_a = [\"comedy\", \"sci-fi\", \"Stars latest action movie star\"]\n",
    "print(f\"User has {len(user_a)} primary preferences\")\n",
    "\n",
    "# Total number of potential features\n",
    "num_unique_features = len(set(movie_1 + movie_2))\n",
    "print(f\"These movies have {num_unique_features} unique features.\")"
   ]
  },
  {
   "cell_type": "markdown",
   "id": "e4a589f0",
   "metadata": {},
   "source": [
    "Convert the user preferences list into a numerical score between -1 and 1"
   ]
  },
  {
   "cell_type": "code",
   "execution_count": null,
   "id": "bb69c385",
   "metadata": {},
   "outputs": [],
   "source": [
    "my_preferences = np.array([0.98, 0.85, 0.75])"
   ]
  },
  {
   "cell_type": "markdown",
   "id": "ddefa05b",
   "metadata": {},
   "source": [
    "Convert movie attributes into a numerical score between -1 and 1 based on the following 3 attributes:\n",
    "\n",
    "- Sci-Fi\n",
    "- Comedy\n",
    "- Stars latest action hero"
   ]
  },
  {
   "cell_type": "code",
   "execution_count": null,
   "id": "33f0b9ff",
   "metadata": {},
   "outputs": [],
   "source": [
    "movie_attribute_scores = np.array([0.96, 0.99, 0.92])\n",
    "\n",
    "movie_2_attribute_scores = np.array([-0.93, -0.45, 0.5])"
   ]
  },
  {
   "cell_type": "markdown",
   "id": "e4fd0b6e",
   "metadata": {},
   "source": [
    "Predict User's likelihood of enjoying either movie using Matrix multiplication."
   ]
  },
  {
   "cell_type": "code",
   "execution_count": null,
   "id": "ad941f89",
   "metadata": {},
   "outputs": [],
   "source": [
    "(my_preferences * movie_attribute_scores).sum()"
   ]
  },
  {
   "cell_type": "code",
   "execution_count": null,
   "id": "f00c6534",
   "metadata": {
    "scrolled": true
   },
   "outputs": [],
   "source": [
    "(my_preferences * movie_2_attribute_scores).sum()"
   ]
  },
  {
   "cell_type": "code",
   "execution_count": null,
   "id": "40ba8e7f",
   "metadata": {},
   "outputs": [],
   "source": [
    "max_score = (np.array([1, 1, 1]) * np.array([1, 1, 1])).sum()\n",
    "min_score = (np.array([1, 1, 1]) * np.array([-1, -1, -1])).sum()\n",
    "print(max_score, min_score)"
   ]
  },
  {
   "cell_type": "markdown",
   "id": "949f5042",
   "metadata": {},
   "source": [
    "This notebook was inspired from Chapter 8 In [Deep Learning for Coders](https://amzn.to/3Bs48Sz) by Jeremy Howard & Sylvain Gugger"
   ]
  },
  {
   "cell_type": "code",
   "execution_count": null,
   "id": "e57536cd",
   "metadata": {},
   "outputs": [],
   "source": [
    "ids = Movie.objects.all().popular()[:15]\n",
    "most_active_users = (\n",
    "    Rating.objects.all()\n",
    "    .annotate(user_count=Count(\"user\"))\n",
    "    .order_by(\"-user_count\")\n",
    "    .values_list(\"user_id\")[:5_000]\n",
    ")\n",
    "\n",
    "ratings_qs = (\n",
    "    Rating.objects.filter(\n",
    "        object_id__in=ids, user_id__in=most_active_users, active=True, value__gte=0\n",
    "    )\n",
    "    .annotate(movie=F(\"object_id\"))\n",
    "    .values(\"user\", \"value\", \"movie\")\n",
    ")\n",
    "\n",
    "df = pd.DataFrame(ratings_qs)"
   ]
  },
  {
   "cell_type": "code",
   "execution_count": null,
   "id": "8b386ef6",
   "metadata": {},
   "outputs": [],
   "source": [
    "df.pivot_table(index=\"user\", columns=[\"movie\"], values=\"value\", fill_value=\"\")[:15]"
   ]
  },
  {
   "cell_type": "code",
   "execution_count": null,
   "id": "1bad33ca",
   "metadata": {},
   "outputs": [],
   "source": [
    "movie_1 = np.array([1, 1, 1, 1, 1])\n",
    "user_1 = np.array([1, 1, 1, 1, 1])\n",
    "(user_1 * movie_1).sum()"
   ]
  },
  {
   "cell_type": "markdown",
   "id": "d6cc58b0",
   "metadata": {},
   "source": [
    "```python\n",
    "movie_1_features = np.array([\"x\", \"y\", \"z\", \"xx\", \"yy\"])\n",
    "user_1_preferences = np.array([\"x\", \"y\", \"z\", \"xx\", \"yy\"])\n",
    "assert (user_1_preferences * movie_1_features).sum() == 5\n",
    "```\n",
    "\n",
    "These are called latent features. They are hidden and it's what the machine learning model will try and find for us."
   ]
  },
  {
   "cell_type": "code",
   "execution_count": null,
   "id": "3d494367",
   "metadata": {},
   "outputs": [],
   "source": []
  },
  {
   "cell_type": "code",
   "execution_count": null,
   "id": "6e2d47ce",
   "metadata": {},
   "outputs": [],
   "source": []
  },
  {
   "cell_type": "code",
   "execution_count": null,
   "id": "71f9835a",
   "metadata": {},
   "outputs": [],
   "source": []
  }
 ],
 "metadata": {
  "kernelspec": {
   "display_name": ".venv",
   "language": "python",
   "name": "python3"
  },
  "language_info": {
   "codemirror_mode": {
    "name": "ipython",
    "version": 3
   },
   "file_extension": ".py",
   "mimetype": "text/x-python",
   "name": "python",
   "nbconvert_exporter": "python",
   "pygments_lexer": "ipython3",
   "version": "3.12.4"
  }
 },
 "nbformat": 4,
 "nbformat_minor": 5
}
